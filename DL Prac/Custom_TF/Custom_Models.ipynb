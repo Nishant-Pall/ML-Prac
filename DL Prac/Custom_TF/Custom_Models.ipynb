{
 "metadata": {
  "language_info": {
   "codemirror_mode": {
    "name": "ipython",
    "version": 3
   },
   "file_extension": ".py",
   "mimetype": "text/x-python",
   "name": "python",
   "nbconvert_exporter": "python",
   "pygments_lexer": "ipython3",
   "version": "3.8.2-final"
  },
  "orig_nbformat": 2,
  "kernelspec": {
   "name": "Python 3.8.2 64-bit",
   "display_name": "Python 3.8.2 64-bit",
   "metadata": {
    "interpreter": {
     "hash": "69916212ca60b5f49953924cb6bf7d4e6cd853a4eeb57ff876fb53410dcfb4b0"
    }
   }
  }
 },
 "nbformat": 4,
 "nbformat_minor": 2,
 "cells": [
  {
   "cell_type": "code",
   "execution_count": 1,
   "metadata": {},
   "outputs": [],
   "source": [
    "import tensorflow as tf"
   ]
  },
  {
   "cell_type": "code",
   "execution_count": 5,
   "metadata": {},
   "outputs": [],
   "source": [
    "def huber_fn(y_true, y_pred):\n",
    "    error = y_true - y_pred\n",
    "    is_small_error = tf.abs(error) < 1\n",
    "    squared_loss = tf.square(error) / 2\n",
    "    linear_loss = tf.abs(error) - 0.5\n",
    "    return tf.where(is_small_error, squared_loss, linear_loss)"
   ]
  },
  {
   "cell_type": "code",
   "execution_count": 6,
   "metadata": {},
   "outputs": [
    {
     "output_type": "stream",
     "name": "stdout",
     "text": [
      "Help on function where_v2 in module tensorflow.python.ops.array_ops:\n\nwhere_v2(condition, x=None, y=None, name=None)\n    Return the elements where `condition` is `True` (multiplexing `x` and `y`).\n    \n    This operator has two modes: in one mode both `x` and `y` are provided, in\n    another mode neither are provided. `condition` is always expected to be a\n    `tf.Tensor` of type `bool`.\n    \n    #### Retrieving indices of `True` elements\n    \n    If `x` and `y` are not provided (both are None):\n    \n    `tf.where` will return the indices of `condition` that are `True`, in\n    the form of a 2-D tensor with shape (n, d).\n    (Where n is the number of matching indices in `condition`,\n    and d is the number of dimensions in `condition`).\n    \n    Indices are output in row-major order.\n    \n    >>> tf.where([True, False, False, True])\n    <tf.Tensor: shape=(2, 1), dtype=int64, numpy=\n    array([[0],\n           [3]])>\n    \n    >>> tf.where([[True, False], [False, True]])\n    <tf.Tensor: shape=(2, 2), dtype=int64, numpy=\n    array([[0, 0],\n           [1, 1]])>\n    \n    >>> tf.where([[[True, False], [False, True], [True, True]]])\n    <tf.Tensor: shape=(4, 3), dtype=int64, numpy=\n    array([[0, 0, 0],\n           [0, 1, 1],\n           [0, 2, 0],\n           [0, 2, 1]])>\n    \n    #### Multiplexing between `x` and `y`\n    \n    If `x` and `y` are provided (both have non-None values):\n    \n    `tf.where` will choose an output shape from the shapes of `condition`, `x`,\n    and `y` that all three shapes are\n    [broadcastable](https://docs.scipy.org/doc/numpy/reference/ufuncs.html) to.\n    \n    The `condition` tensor acts as a mask that chooses whether the corresponding\n    element / row in the output should be taken from `x`\n    (if the element in `condition is True) or `y` (if it is false).\n    \n    >>> tf.where([True, False, False, True], [1,2,3,4], [100,200,300,400])\n    <tf.Tensor: shape=(4,), dtype=int32, numpy=array([  1, 200, 300,   4],\n    dtype=int32)>\n    >>> tf.where([True, False, False, True], [1,2,3,4], [100])\n    <tf.Tensor: shape=(4,), dtype=int32, numpy=array([  1, 100, 100,   4],\n    dtype=int32)>\n    >>> tf.where([True, False, False, True], [1,2,3,4], 100)\n    <tf.Tensor: shape=(4,), dtype=int32, numpy=array([  1, 100, 100,   4],\n    dtype=int32)>\n    >>> tf.where([True, False, False, True], 1, 100)\n    <tf.Tensor: shape=(4,), dtype=int32, numpy=array([  1, 100, 100,   1],\n    dtype=int32)>\n    \n    >>> tf.where(True, [1,2,3,4], 100)\n    <tf.Tensor: shape=(4,), dtype=int32, numpy=array([1, 2, 3, 4],\n    dtype=int32)>\n    >>> tf.where(False, [1,2,3,4], 100)\n    <tf.Tensor: shape=(4,), dtype=int32, numpy=array([100, 100, 100, 100],\n    dtype=int32)>\n    \n    Args:\n      condition: A `tf.Tensor` of type `bool`\n      x: If provided, a Tensor which is of the same type as `y`, and has a shape\n        broadcastable with `condition` and `y`.\n      y: If provided, a Tensor which is of the same type as `y`, and has a shape\n        broadcastable with `condition` and `x`.\n      name: A name of the operation (optional).\n    \n    Returns:\n      If `x` and `y` are provided:\n        A `Tensor` with the same type as `x` and `y`, and shape that\n        is broadcast from `condition`, `x`, and `y`.\n      Otherwise, a `Tensor` with shape `(num_true, dim_size(condition))`.\n    \n    Raises:\n      ValueError: When exactly one of `x` or `y` is non-None, or the shapes\n        are not all broadcastable.\n\n"
     ]
    }
   ],
   "source": [
    "help(tf.where)"
   ]
  },
  {
   "cell_type": "code",
   "execution_count": 7,
   "metadata": {},
   "outputs": [],
   "source": [
    "# model.compile(loss=huber_fn, optimizer='adam')"
   ]
  },
  {
   "cell_type": "code",
   "execution_count": 8,
   "metadata": {},
   "outputs": [],
   "source": [
    "def create_huber(threshold=1.0):\n",
    "    def huber_fn(y_true, y_pred):\n",
    "        error = y_true - y_pred\n",
    "        is_small_error = tf.abs(error) < threshold\n",
    "        squared_loss = tf.square(error) / 2\n",
    "        linear_loss = threshold*tf.abs(error) - threshold**2/2\n",
    "        return tf.where(is_small_error, squared_loss, linear_loss)\n",
    "    return huber_fn"
   ]
  },
  {
   "cell_type": "code",
   "execution_count": 10,
   "metadata": {},
   "outputs": [],
   "source": [
    "# model.compile(loss=create_huber(2.0), optimizer='adam')"
   ]
  },
  {
   "cell_type": "code",
   "execution_count": 11,
   "metadata": {},
   "outputs": [],
   "source": [
    "from tensorflow import keras"
   ]
  },
  {
   "cell_type": "code",
   "execution_count": 12,
   "metadata": {},
   "outputs": [],
   "source": [
    "class HuberLoss(keras.losses.Loss):\n",
    "    def __init__(self, threshold=1.0, **kwargs):\n",
    "        self.threshold = threshold\n",
    "        super().__init__(**kwargs)\n",
    "    def call(self, y_true, y_pred):\n",
    "        error = y_true - y_pred\n",
    "        is_small_error = tf.abs(error) < self.threshold\n",
    "        squared_loss = tf.square(error) / 2\n",
    "        linear_loss = self.threshold*tf.abs(error) - self.threshold**2/2\n",
    "        return tf.where(is_small_error, squared_loss, linear_loss)\n",
    "    def get_config(self):\n",
    "        base_config = super().get_config\n",
    "        return {**base_config, \"threshold\":self.threshold}\n",
    "    "
   ]
  },
  {
   "cell_type": "code",
   "execution_count": 13,
   "metadata": {},
   "outputs": [],
   "source": [
    "# Custom Activation Functions, Initializers, Regularizers, and Constraint"
   ]
  },
  {
   "cell_type": "code",
   "execution_count": 14,
   "metadata": {},
   "outputs": [],
   "source": [
    "def my_softplus(z):  # return value is just tf.nn.softplus(z)\n",
    "    return tf.math.log(tf.exp(z) + 1)"
   ]
  },
  {
   "cell_type": "code",
   "execution_count": null,
   "metadata": {},
   "outputs": [],
   "source": []
  }
 ]
}